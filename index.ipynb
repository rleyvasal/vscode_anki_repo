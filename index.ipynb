{
 "cells": [
  {
   "cell_type": "code",
   "execution_count": 1,
   "metadata": {},
   "outputs": [],
   "source": [
    "#| hide\n",
    "from vscode_anki_repo.core import *"
   ]
  },
  {
   "attachments": {},
   "cell_type": "markdown",
   "metadata": {},
   "source": [
    "# vscode_anki_repo\n",
    "\n",
    "> Steps to reproduce vscode anki error"
   ]
  },
  {
   "attachments": {},
   "cell_type": "markdown",
   "metadata": {},
   "source": [
    "## steps"
   ]
  },
  {
   "cell_type": "markdown",
   "metadata": {},
   "source": []
  },
  {
   "attachments": {},
   "cell_type": "markdown",
   "metadata": {},
   "source": [
    "-   Open Anki app > Tools Menu > Addons > Press Get addons button > install AnkiConnect\n",
    "\n",
    "-   Create `.md` file in vscode (file in repot `anki_multiplication.md`)\n",
    "\n",
    "-   Enter line of code to insert image \n",
    "\n",
    "```markdown  \n",
    "![image](/home/rls/Downloads/anki_md/2x2.png)\n",
    "```\n",
    "\n",
    "-   `Anki: Send to Deck` command in VSCode's commmand palette `Ctrl+Shift+p`\n",
    "\n",
    "-   Open Anki app > Deck > notes  \n",
    "\n",
    "Result image not displayed\n"
   ]
  },
  {
   "attachments": {},
   "cell_type": "markdown",
   "metadata": {},
   "source": [
    "![](anki_w_image.png)\n",
    "\n",
    "![](anki_w_image_2.png)"
   ]
  }
 ],
 "metadata": {
  "kernelspec": {
   "display_name": "base",
   "language": "python",
   "name": "python3"
  },
  "language_info": {
   "codemirror_mode": {
    "name": "ipython",
    "version": 3
   },
   "file_extension": ".py",
   "mimetype": "text/x-python",
   "name": "python",
   "nbconvert_exporter": "python",
   "pygments_lexer": "ipython3",
   "version": "3.10.6"
  },
  "vscode": {
   "interpreter": {
    "hash": "306a1454424a2226e3f05c97b83a794ff4b09df9bf715834e71a7d064e67a342"
   }
  }
 },
 "nbformat": 4,
 "nbformat_minor": 4
}
